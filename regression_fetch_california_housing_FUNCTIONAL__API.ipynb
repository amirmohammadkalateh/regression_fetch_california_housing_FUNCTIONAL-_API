{
  "nbformat": 4,
  "nbformat_minor": 0,
  "metadata": {
    "colab": {
      "provenance": [],
      "authorship_tag": "ABX9TyMCsj1gFuB34DCVTXz4vCCL",
      "include_colab_link": true
    },
    "kernelspec": {
      "name": "python3",
      "display_name": "Python 3"
    },
    "language_info": {
      "name": "python"
    }
  },
  "cells": [
    {
      "cell_type": "markdown",
      "metadata": {
        "id": "view-in-github",
        "colab_type": "text"
      },
      "source": [
        "<a href=\"https://colab.research.google.com/github/amirmohammadkalateh/regression_fetch_california_housing_FUNCTIONAL-_API/blob/main/regression_fetch_california_housing_FUNCTIONAL__API.ipynb\" target=\"_parent\"><img src=\"https://colab.research.google.com/assets/colab-badge.svg\" alt=\"Open In Colab\"/></a>"
      ]
    },
    {
      "cell_type": "code",
      "execution_count": 2,
      "metadata": {
        "id": "uJFSfdergt-3"
      },
      "outputs": [],
      "source": [
        "import tensorflow as tf\n",
        "from tensorflow import keras\n",
        "from sklearn.datasets import fetch_california_housing\n",
        "import matplotlib.pyplot as plt\n",
        "import numpy as np\n"
      ]
    },
    {
      "cell_type": "code",
      "source": [
        "keras.__version__\n"
      ],
      "metadata": {
        "colab": {
          "base_uri": "https://localhost:8080/",
          "height": 36
        },
        "id": "syW29WFbiEut",
        "outputId": "e40cd08c-9adc-4711-ce25-aebad3abdeb0"
      },
      "execution_count": 3,
      "outputs": [
        {
          "output_type": "execute_result",
          "data": {
            "text/plain": [
              "'3.8.0'"
            ],
            "application/vnd.google.colaboratory.intrinsic+json": {
              "type": "string"
            }
          },
          "metadata": {},
          "execution_count": 3
        }
      ]
    },
    {
      "cell_type": "code",
      "source": [
        "californai_housing = fetch_california_housing()"
      ],
      "metadata": {
        "id": "-ionPszZiQLz"
      },
      "execution_count": 4,
      "outputs": []
    },
    {
      "cell_type": "code",
      "source": [
        "from sklearn.model_selection import train_test_split\n",
        "X_train0, X_test, Y_train0, Y_test = train_test_split(californai_housing[\"data\"],\n",
        "                 californai_housing[\"target\"])"
      ],
      "metadata": {
        "id": "jDC1SUdSivJG"
      },
      "execution_count": 5,
      "outputs": []
    },
    {
      "cell_type": "code",
      "source": [
        "from sklearn.model_selection import train_test_split\n",
        "X_train1, X_validation, Y_train1, Y_validation = train_test_split(X_train0, Y_train0)"
      ],
      "metadata": {
        "id": "qA2EMl4bkJ7J"
      },
      "execution_count": 6,
      "outputs": []
    },
    {
      "cell_type": "code",
      "source": [
        "print(X_test.shape)\n",
        "print(X_train0.shape)\n",
        "print(X_train1.shape)\n",
        "print(X_validation.shape)\n"
      ],
      "metadata": {
        "colab": {
          "base_uri": "https://localhost:8080/"
        },
        "id": "C3aFEwC_mmKR",
        "outputId": "29814845-f98c-4a88-9812-7479a925badb"
      },
      "execution_count": 7,
      "outputs": [
        {
          "output_type": "stream",
          "name": "stdout",
          "text": [
            "(5160, 8)\n",
            "(15480, 8)\n",
            "(11610, 8)\n",
            "(3870, 8)\n"
          ]
        }
      ]
    },
    {
      "cell_type": "code",
      "source": [
        "from sklearn.preprocessing import StandardScaler\n",
        "scaler = StandardScaler()\n",
        "X_train1_scaled = scaler.fit_transform(X_train1)\n",
        "X_validation_scaled = scaler.transform(X_validation)\n",
        "X_test_scaled = scaler.transform(X_test)"
      ],
      "metadata": {
        "id": "Td60UChxnOFz"
      },
      "execution_count": 8,
      "outputs": []
    },
    {
      "cell_type": "code",
      "source": [
        "#Sequential API\n",
        "model = keras.models.Sequential([\n",
        "    keras.layers.Dense(50, activation=\"relu\"),\n",
        "    keras.layers.Dense(10, activation=\"relu\"),\n",
        "    keras.layers.Dense(1, )\n",
        "])\n"
      ],
      "metadata": {
        "id": "VuDT5_IqpEcW"
      },
      "execution_count": 9,
      "outputs": []
    },
    {
      "cell_type": "markdown",
      "source": [
        "# New Section"
      ],
      "metadata": {
        "id": "vKGaPOmBEPs3"
      }
    },
    {
      "cell_type": "code",
      "source": [
        "#Functional API\n",
        "input_ = keras.layers.Input(shape=X_train1.shape[1:])\n",
        "hidden_layer1 = keras.layers.Dense(50, activation = \"relu\")(input_)\n",
        "hidden_layer2 = keras.layers.Dense(10, activation = \"relu\")(hidden_layer1)\n",
        "concatenate_layer = keras.layers.Concatenate()([input_, hidden_layer2])\n",
        "output = keras.layers.Dense(1)(concatenate_layer)\n",
        "model = keras.Model(inputs=[input_], outputs=[output])"
      ],
      "metadata": {
        "id": "lSj0oZwl_b8a"
      },
      "execution_count": 22,
      "outputs": []
    },
    {
      "cell_type": "code",
      "source": [
        "#Compile\n",
        "model.compile(loss = \"mean_squared_error\",\n",
        "              optimizer = \"sgd\",\n",
        "              metrics = [\"mean_absolute_error\"])"
      ],
      "metadata": {
        "id": "ET8fSdsOqvyl"
      },
      "execution_count": 10,
      "outputs": []
    },
    {
      "cell_type": "code",
      "source": [
        "model.fit(X_train1_scaled,\n",
        "          Y_train1,\n",
        "          epochs=50,\n",
        "          validation_data=(X_validation_scaled, Y_validation))"
      ],
      "metadata": {
        "colab": {
          "base_uri": "https://localhost:8080/"
        },
        "id": "9oGyRthKrBod",
        "outputId": "a99c08ad-ea68-4aea-f287-6315821d842c"
      },
      "execution_count": 11,
      "outputs": [
        {
          "output_type": "stream",
          "name": "stdout",
          "text": [
            "Epoch 1/50\n",
            "\u001b[1m363/363\u001b[0m \u001b[32m━━━━━━━━━━━━━━━━━━━━\u001b[0m\u001b[37m\u001b[0m \u001b[1m10s\u001b[0m 18ms/step - loss: 1.0609 - mean_absolute_error: 0.7060 - val_loss: 0.5287 - val_mean_absolute_error: 0.5272\n",
            "Epoch 2/50\n",
            "\u001b[1m363/363\u001b[0m \u001b[32m━━━━━━━━━━━━━━━━━━━━\u001b[0m\u001b[37m\u001b[0m \u001b[1m2s\u001b[0m 7ms/step - loss: 0.5466 - mean_absolute_error: 0.5216 - val_loss: 0.4668 - val_mean_absolute_error: 0.4864\n",
            "Epoch 3/50\n",
            "\u001b[1m363/363\u001b[0m \u001b[32m━━━━━━━━━━━━━━━━━━━━\u001b[0m\u001b[37m\u001b[0m \u001b[1m2s\u001b[0m 6ms/step - loss: 0.4496 - mean_absolute_error: 0.4791 - val_loss: 0.4419 - val_mean_absolute_error: 0.4657\n",
            "Epoch 4/50\n",
            "\u001b[1m363/363\u001b[0m \u001b[32m━━━━━━━━━━━━━━━━━━━━\u001b[0m\u001b[37m\u001b[0m \u001b[1m2s\u001b[0m 5ms/step - loss: 0.4257 - mean_absolute_error: 0.4615 - val_loss: 0.4289 - val_mean_absolute_error: 0.4710\n",
            "Epoch 5/50\n",
            "\u001b[1m363/363\u001b[0m \u001b[32m━━━━━━━━━━━━━━━━━━━━\u001b[0m\u001b[37m\u001b[0m \u001b[1m1s\u001b[0m 2ms/step - loss: 0.4086 - mean_absolute_error: 0.4549 - val_loss: 0.4179 - val_mean_absolute_error: 0.4537\n",
            "Epoch 6/50\n",
            "\u001b[1m363/363\u001b[0m \u001b[32m━━━━━━━━━━━━━━━━━━━━\u001b[0m\u001b[37m\u001b[0m \u001b[1m1s\u001b[0m 2ms/step - loss: 0.4049 - mean_absolute_error: 0.4560 - val_loss: 0.4072 - val_mean_absolute_error: 0.4530\n",
            "Epoch 7/50\n",
            "\u001b[1m363/363\u001b[0m \u001b[32m━━━━━━━━━━━━━━━━━━━━\u001b[0m\u001b[37m\u001b[0m \u001b[1m1s\u001b[0m 2ms/step - loss: 0.3975 - mean_absolute_error: 0.4490 - val_loss: 0.4032 - val_mean_absolute_error: 0.4488\n",
            "Epoch 8/50\n",
            "\u001b[1m363/363\u001b[0m \u001b[32m━━━━━━━━━━━━━━━━━━━━\u001b[0m\u001b[37m\u001b[0m \u001b[1m1s\u001b[0m 3ms/step - loss: 0.3822 - mean_absolute_error: 0.4423 - val_loss: 0.3984 - val_mean_absolute_error: 0.4317\n",
            "Epoch 9/50\n",
            "\u001b[1m363/363\u001b[0m \u001b[32m━━━━━━━━━━━━━━━━━━━━\u001b[0m\u001b[37m\u001b[0m \u001b[1m2s\u001b[0m 5ms/step - loss: 0.3702 - mean_absolute_error: 0.4289 - val_loss: 0.3929 - val_mean_absolute_error: 0.4317\n",
            "Epoch 10/50\n",
            "\u001b[1m363/363\u001b[0m \u001b[32m━━━━━━━━━━━━━━━━━━━━\u001b[0m\u001b[37m\u001b[0m \u001b[1m2s\u001b[0m 3ms/step - loss: 0.3686 - mean_absolute_error: 0.4313 - val_loss: 0.3817 - val_mean_absolute_error: 0.4271\n",
            "Epoch 11/50\n",
            "\u001b[1m363/363\u001b[0m \u001b[32m━━━━━━━━━━━━━━━━━━━━\u001b[0m\u001b[37m\u001b[0m \u001b[1m1s\u001b[0m 3ms/step - loss: 0.3622 - mean_absolute_error: 0.4281 - val_loss: 0.3840 - val_mean_absolute_error: 0.4372\n",
            "Epoch 12/50\n",
            "\u001b[1m363/363\u001b[0m \u001b[32m━━━━━━━━━━━━━━━━━━━━\u001b[0m\u001b[37m\u001b[0m \u001b[1m1s\u001b[0m 3ms/step - loss: 0.3630 - mean_absolute_error: 0.4281 - val_loss: 0.3819 - val_mean_absolute_error: 0.4328\n",
            "Epoch 13/50\n",
            "\u001b[1m363/363\u001b[0m \u001b[32m━━━━━━━━━━━━━━━━━━━━\u001b[0m\u001b[37m\u001b[0m \u001b[1m1s\u001b[0m 2ms/step - loss: 0.3515 - mean_absolute_error: 0.4201 - val_loss: 0.3908 - val_mean_absolute_error: 0.4249\n",
            "Epoch 14/50\n",
            "\u001b[1m363/363\u001b[0m \u001b[32m━━━━━━━━━━━━━━━━━━━━\u001b[0m\u001b[37m\u001b[0m \u001b[1m1s\u001b[0m 3ms/step - loss: 0.3541 - mean_absolute_error: 0.4230 - val_loss: 0.3724 - val_mean_absolute_error: 0.4183\n",
            "Epoch 15/50\n",
            "\u001b[1m363/363\u001b[0m \u001b[32m━━━━━━━━━━━━━━━━━━━━\u001b[0m\u001b[37m\u001b[0m \u001b[1m1s\u001b[0m 3ms/step - loss: 0.3556 - mean_absolute_error: 0.4224 - val_loss: 0.3755 - val_mean_absolute_error: 0.4193\n",
            "Epoch 16/50\n",
            "\u001b[1m363/363\u001b[0m \u001b[32m━━━━━━━━━━━━━━━━━━━━\u001b[0m\u001b[37m\u001b[0m \u001b[1m1s\u001b[0m 2ms/step - loss: 0.3483 - mean_absolute_error: 0.4186 - val_loss: 0.3740 - val_mean_absolute_error: 0.4190\n",
            "Epoch 17/50\n",
            "\u001b[1m363/363\u001b[0m \u001b[32m━━━━━━━━━━━━━━━━━━━━\u001b[0m\u001b[37m\u001b[0m \u001b[1m2s\u001b[0m 4ms/step - loss: 0.3439 - mean_absolute_error: 0.4195 - val_loss: 0.3771 - val_mean_absolute_error: 0.4325\n",
            "Epoch 18/50\n",
            "\u001b[1m363/363\u001b[0m \u001b[32m━━━━━━━━━━━━━━━━━━━━\u001b[0m\u001b[37m\u001b[0m \u001b[1m2s\u001b[0m 3ms/step - loss: 0.3448 - mean_absolute_error: 0.4193 - val_loss: 0.3567 - val_mean_absolute_error: 0.4110\n",
            "Epoch 19/50\n",
            "\u001b[1m363/363\u001b[0m \u001b[32m━━━━━━━━━━━━━━━━━━━━\u001b[0m\u001b[37m\u001b[0m \u001b[1m1s\u001b[0m 3ms/step - loss: 0.3357 - mean_absolute_error: 0.4124 - val_loss: 0.3664 - val_mean_absolute_error: 0.4087\n",
            "Epoch 20/50\n",
            "\u001b[1m363/363\u001b[0m \u001b[32m━━━━━━━━━━━━━━━━━━━━\u001b[0m\u001b[37m\u001b[0m \u001b[1m1s\u001b[0m 3ms/step - loss: 0.3256 - mean_absolute_error: 0.4085 - val_loss: 0.3792 - val_mean_absolute_error: 0.4365\n",
            "Epoch 21/50\n",
            "\u001b[1m363/363\u001b[0m \u001b[32m━━━━━━━━━━━━━━━━━━━━\u001b[0m\u001b[37m\u001b[0m \u001b[1m1s\u001b[0m 3ms/step - loss: 0.3271 - mean_absolute_error: 0.4078 - val_loss: 0.3574 - val_mean_absolute_error: 0.4051\n",
            "Epoch 22/50\n",
            "\u001b[1m363/363\u001b[0m \u001b[32m━━━━━━━━━━━━━━━━━━━━\u001b[0m\u001b[37m\u001b[0m \u001b[1m1s\u001b[0m 3ms/step - loss: 0.3228 - mean_absolute_error: 0.4012 - val_loss: 0.3607 - val_mean_absolute_error: 0.4108\n",
            "Epoch 23/50\n",
            "\u001b[1m363/363\u001b[0m \u001b[32m━━━━━━━━━━━━━━━━━━━━\u001b[0m\u001b[37m\u001b[0m \u001b[1m1s\u001b[0m 3ms/step - loss: 0.3296 - mean_absolute_error: 0.4066 - val_loss: 0.3646 - val_mean_absolute_error: 0.4153\n",
            "Epoch 24/50\n",
            "\u001b[1m363/363\u001b[0m \u001b[32m━━━━━━━━━━━━━━━━━━━━\u001b[0m\u001b[37m\u001b[0m \u001b[1m1s\u001b[0m 3ms/step - loss: 0.3215 - mean_absolute_error: 0.3986 - val_loss: 0.3604 - val_mean_absolute_error: 0.4116\n",
            "Epoch 25/50\n",
            "\u001b[1m363/363\u001b[0m \u001b[32m━━━━━━━━━━━━━━━━━━━━\u001b[0m\u001b[37m\u001b[0m \u001b[1m1s\u001b[0m 3ms/step - loss: 0.3063 - mean_absolute_error: 0.3927 - val_loss: 0.3585 - val_mean_absolute_error: 0.4166\n",
            "Epoch 26/50\n",
            "\u001b[1m363/363\u001b[0m \u001b[32m━━━━━━━━━━━━━━━━━━━━\u001b[0m\u001b[37m\u001b[0m \u001b[1m1s\u001b[0m 4ms/step - loss: 0.3173 - mean_absolute_error: 0.3949 - val_loss: 0.3574 - val_mean_absolute_error: 0.4165\n",
            "Epoch 27/50\n",
            "\u001b[1m363/363\u001b[0m \u001b[32m━━━━━━━━━━━━━━━━━━━━\u001b[0m\u001b[37m\u001b[0m \u001b[1m2s\u001b[0m 2ms/step - loss: 0.3079 - mean_absolute_error: 0.3923 - val_loss: 0.3504 - val_mean_absolute_error: 0.4020\n",
            "Epoch 28/50\n",
            "\u001b[1m363/363\u001b[0m \u001b[32m━━━━━━━━━━━━━━━━━━━━\u001b[0m\u001b[37m\u001b[0m \u001b[1m1s\u001b[0m 2ms/step - loss: 0.3296 - mean_absolute_error: 0.4029 - val_loss: 0.3490 - val_mean_absolute_error: 0.3950\n",
            "Epoch 29/50\n",
            "\u001b[1m363/363\u001b[0m \u001b[32m━━━━━━━━━━━━━━━━━━━━\u001b[0m\u001b[37m\u001b[0m \u001b[1m1s\u001b[0m 2ms/step - loss: 0.3258 - mean_absolute_error: 0.3998 - val_loss: 0.3451 - val_mean_absolute_error: 0.3960\n",
            "Epoch 30/50\n",
            "\u001b[1m363/363\u001b[0m \u001b[32m━━━━━━━━━━━━━━━━━━━━\u001b[0m\u001b[37m\u001b[0m \u001b[1m1s\u001b[0m 2ms/step - loss: 0.3224 - mean_absolute_error: 0.3971 - val_loss: 0.3576 - val_mean_absolute_error: 0.3968\n",
            "Epoch 31/50\n",
            "\u001b[1m363/363\u001b[0m \u001b[32m━━━━━━━━━━━━━━━━━━━━\u001b[0m\u001b[37m\u001b[0m \u001b[1m1s\u001b[0m 3ms/step - loss: 0.2987 - mean_absolute_error: 0.3852 - val_loss: 0.3423 - val_mean_absolute_error: 0.3970\n",
            "Epoch 32/50\n",
            "\u001b[1m363/363\u001b[0m \u001b[32m━━━━━━━━━━━━━━━━━━━━\u001b[0m\u001b[37m\u001b[0m \u001b[1m1s\u001b[0m 3ms/step - loss: 0.3057 - mean_absolute_error: 0.3884 - val_loss: 0.3572 - val_mean_absolute_error: 0.4218\n",
            "Epoch 33/50\n",
            "\u001b[1m363/363\u001b[0m \u001b[32m━━━━━━━━━━━━━━━━━━━━\u001b[0m\u001b[37m\u001b[0m \u001b[1m1s\u001b[0m 3ms/step - loss: 0.3152 - mean_absolute_error: 0.3908 - val_loss: 0.3556 - val_mean_absolute_error: 0.3974\n",
            "Epoch 34/50\n",
            "\u001b[1m363/363\u001b[0m \u001b[32m━━━━━━━━━━━━━━━━━━━━\u001b[0m\u001b[37m\u001b[0m \u001b[1m1s\u001b[0m 2ms/step - loss: 0.3058 - mean_absolute_error: 0.3872 - val_loss: 0.3391 - val_mean_absolute_error: 0.3916\n",
            "Epoch 35/50\n",
            "\u001b[1m363/363\u001b[0m \u001b[32m━━━━━━━━━━━━━━━━━━━━\u001b[0m\u001b[37m\u001b[0m \u001b[1m2s\u001b[0m 4ms/step - loss: 0.2965 - mean_absolute_error: 0.3884 - val_loss: 0.3525 - val_mean_absolute_error: 0.4166\n",
            "Epoch 36/50\n",
            "\u001b[1m363/363\u001b[0m \u001b[32m━━━━━━━━━━━━━━━━━━━━\u001b[0m\u001b[37m\u001b[0m \u001b[1m2s\u001b[0m 3ms/step - loss: 0.3095 - mean_absolute_error: 0.3921 - val_loss: 0.3761 - val_mean_absolute_error: 0.4040\n",
            "Epoch 37/50\n",
            "\u001b[1m363/363\u001b[0m \u001b[32m━━━━━━━━━━━━━━━━━━━━\u001b[0m\u001b[37m\u001b[0m \u001b[1m1s\u001b[0m 3ms/step - loss: 0.3089 - mean_absolute_error: 0.3912 - val_loss: 0.3425 - val_mean_absolute_error: 0.3987\n",
            "Epoch 38/50\n",
            "\u001b[1m363/363\u001b[0m \u001b[32m━━━━━━━━━━━━━━━━━━━━\u001b[0m\u001b[37m\u001b[0m \u001b[1m1s\u001b[0m 3ms/step - loss: 0.2949 - mean_absolute_error: 0.3818 - val_loss: 0.3480 - val_mean_absolute_error: 0.4012\n",
            "Epoch 39/50\n",
            "\u001b[1m363/363\u001b[0m \u001b[32m━━━━━━━━━━━━━━━━━━━━\u001b[0m\u001b[37m\u001b[0m \u001b[1m1s\u001b[0m 2ms/step - loss: 0.3099 - mean_absolute_error: 0.3895 - val_loss: 0.3545 - val_mean_absolute_error: 0.3969\n",
            "Epoch 40/50\n",
            "\u001b[1m363/363\u001b[0m \u001b[32m━━━━━━━━━━━━━━━━━━━━\u001b[0m\u001b[37m\u001b[0m \u001b[1m1s\u001b[0m 2ms/step - loss: 0.2976 - mean_absolute_error: 0.3835 - val_loss: 0.3508 - val_mean_absolute_error: 0.3955\n",
            "Epoch 41/50\n",
            "\u001b[1m363/363\u001b[0m \u001b[32m━━━━━━━━━━━━━━━━━━━━\u001b[0m\u001b[37m\u001b[0m \u001b[1m1s\u001b[0m 2ms/step - loss: 0.3004 - mean_absolute_error: 0.3834 - val_loss: 0.3427 - val_mean_absolute_error: 0.4053\n",
            "Epoch 42/50\n",
            "\u001b[1m363/363\u001b[0m \u001b[32m━━━━━━━━━━━━━━━━━━━━\u001b[0m\u001b[37m\u001b[0m \u001b[1m1s\u001b[0m 3ms/step - loss: 0.3108 - mean_absolute_error: 0.3887 - val_loss: 0.3373 - val_mean_absolute_error: 0.3997\n",
            "Epoch 43/50\n",
            "\u001b[1m363/363\u001b[0m \u001b[32m━━━━━━━━━━━━━━━━━━━━\u001b[0m\u001b[37m\u001b[0m \u001b[1m1s\u001b[0m 3ms/step - loss: 0.3012 - mean_absolute_error: 0.3842 - val_loss: 0.3358 - val_mean_absolute_error: 0.3988\n",
            "Epoch 44/50\n",
            "\u001b[1m363/363\u001b[0m \u001b[32m━━━━━━━━━━━━━━━━━━━━\u001b[0m\u001b[37m\u001b[0m \u001b[1m1s\u001b[0m 3ms/step - loss: 0.3042 - mean_absolute_error: 0.3852 - val_loss: 0.3406 - val_mean_absolute_error: 0.3860\n",
            "Epoch 45/50\n",
            "\u001b[1m363/363\u001b[0m \u001b[32m━━━━━━━━━━━━━━━━━━━━\u001b[0m\u001b[37m\u001b[0m \u001b[1m2s\u001b[0m 4ms/step - loss: 0.3079 - mean_absolute_error: 0.3875 - val_loss: 0.3448 - val_mean_absolute_error: 0.3936\n",
            "Epoch 46/50\n",
            "\u001b[1m363/363\u001b[0m \u001b[32m━━━━━━━━━━━━━━━━━━━━\u001b[0m\u001b[37m\u001b[0m \u001b[1m2s\u001b[0m 2ms/step - loss: 0.2837 - mean_absolute_error: 0.3739 - val_loss: 0.3388 - val_mean_absolute_error: 0.4026\n",
            "Epoch 47/50\n",
            "\u001b[1m363/363\u001b[0m \u001b[32m━━━━━━━━━━━━━━━━━━━━\u001b[0m\u001b[37m\u001b[0m \u001b[1m1s\u001b[0m 2ms/step - loss: 0.2881 - mean_absolute_error: 0.3763 - val_loss: 0.3512 - val_mean_absolute_error: 0.4088\n",
            "Epoch 48/50\n",
            "\u001b[1m363/363\u001b[0m \u001b[32m━━━━━━━━━━━━━━━━━━━━\u001b[0m\u001b[37m\u001b[0m \u001b[1m1s\u001b[0m 3ms/step - loss: 0.2897 - mean_absolute_error: 0.3766 - val_loss: 0.3405 - val_mean_absolute_error: 0.3926\n",
            "Epoch 49/50\n",
            "\u001b[1m363/363\u001b[0m \u001b[32m━━━━━━━━━━━━━━━━━━━━\u001b[0m\u001b[37m\u001b[0m \u001b[1m1s\u001b[0m 3ms/step - loss: 0.2923 - mean_absolute_error: 0.3796 - val_loss: 0.3403 - val_mean_absolute_error: 0.3962\n",
            "Epoch 50/50\n",
            "\u001b[1m363/363\u001b[0m \u001b[32m━━━━━━━━━━━━━━━━━━━━\u001b[0m\u001b[37m\u001b[0m \u001b[1m1s\u001b[0m 3ms/step - loss: 0.3019 - mean_absolute_error: 0.3839 - val_loss: 0.3483 - val_mean_absolute_error: 0.4044\n"
          ]
        },
        {
          "output_type": "execute_result",
          "data": {
            "text/plain": [
              "<keras.src.callbacks.history.History at 0x7ea1cf0e38d0>"
            ]
          },
          "metadata": {},
          "execution_count": 11
        }
      ]
    }
  ]
}